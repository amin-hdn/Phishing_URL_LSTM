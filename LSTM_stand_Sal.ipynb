{
 "cells": [
  {
   "cell_type": "code",
   "execution_count": 1,
   "metadata": {
    "colab": {
     "base_uri": "https://localhost:8080/"
    },
    "id": "lN2urIik98y4",
    "outputId": "7abf47b0-1929-4f57-e641-f564f7b48682"
   },
   "outputs": [
    {
     "name": "stdout",
     "output_type": "stream",
     "text": [
      "Mounted at /content/gdrive\n"
     ]
    }
   ],
   "source": [
    "from google.colab import drive\n",
    "drive.mount('/content/gdrive', force_remount = True)"
   ]
  },
  {
   "cell_type": "code",
   "execution_count": 2,
   "metadata": {
    "colab": {
     "base_uri": "https://localhost:8080/"
    },
    "id": "LF-tAy7N-YZe",
    "outputId": "240a01a4-6161-4e12-d586-25d0da2f8db9"
   },
   "outputs": [
    {
     "name": "stdout",
     "output_type": "stream",
     "text": [
      "/content/gdrive/MyDrive\n"
     ]
    }
   ],
   "source": [
    "%cd gdrive/MyDrive"
   ]
  },
  {
   "cell_type": "code",
   "execution_count": 3,
   "metadata": {
    "colab": {
     "base_uri": "https://localhost:8080/"
    },
    "id": "xAkyL4a7-isJ",
    "outputId": "5488f1cc-af30-4a98-d20f-12f04b65d64b"
   },
   "outputs": [
    {
     "name": "stdout",
     "output_type": "stream",
     "text": [
      "/content/gdrive/.shortcut-targets-by-id/1IUYhmMACbf1sXUDQbs__iHRmj6-WG8SJ/lstm_model_data\n"
     ]
    }
   ],
   "source": [
    "%cd lstm_model_data/"
   ]
  },
  {
   "cell_type": "code",
   "execution_count": 4,
   "metadata": {
    "colab": {
     "base_uri": "https://localhost:8080/"
    },
    "id": "tboy-V6Z-nIv",
    "outputId": "13c3200a-eace-4067-c16e-f63e61f10a9d"
   },
   "outputs": [
    {
     "name": "stdout",
     "output_type": "stream",
     "text": [
      "checkpoint1  checkpoint_95_stand      data_preprossessed.csv\n",
      "checkpoint2  checkpoint_95_stand2     model_hab_plot.png\n",
      "checkpoint3  checkpoint_95_stand_hab  model_sal_plot.png\n",
      "checkpoint4  data_95_stand.csv\t      preprossessed_data.csv\n"
     ]
    }
   ],
   "source": [
    "!ls"
   ]
  },
  {
   "cell_type": "code",
   "execution_count": 17,
   "metadata": {
    "id": "EVTx8qQz9FSx"
   },
   "outputs": [],
   "source": [
    "import numpy as np\n",
    "import pandas as pd\n",
    "from sklearn.model_selection import train_test_split\n",
    "#import matplotlib.pyplot as plt"
   ]
  },
  {
   "cell_type": "code",
   "execution_count": 19,
   "metadata": {
    "id": "cTv6YLvX9FSz"
   },
   "outputs": [],
   "source": [
    "dataset = pd.read_csv(r'C:/Users/PC.PACK/Desktop/archive/data_95_stand.csv')"
   ]
  },
  {
   "cell_type": "code",
   "execution_count": 8,
   "metadata": {
    "id": "JXyEyZH69FSz"
   },
   "outputs": [],
   "source": [
    "# dataset['type'] = dataset['type'].replace({'benign': 0, 'phishing': 1})"
   ]
  },
  {
   "cell_type": "code",
   "execution_count": 9,
   "metadata": {
    "colab": {
     "base_uri": "https://localhost:8080/"
    },
    "id": "0p5CpIFV9FS0",
    "outputId": "c6fbba9b-d82b-4d11-a7f5-7ab3a66bd95a"
   },
   "outputs": [
    {
     "data": {
      "text/plain": [
       "(75288, 36)"
      ]
     },
     "execution_count": 9,
     "metadata": {},
     "output_type": "execute_result"
    }
   ],
   "source": [
    "dataset.shape"
   ]
  },
  {
   "cell_type": "code",
   "execution_count": 20,
   "metadata": {
    "id": "Zg6CGLNR9FS1"
   },
   "outputs": [],
   "source": [
    "X = dataset.iloc[:,[2,3,4,5,6,7,8,9,10,11,12,13,14,15,16,17,18,19,20,21,22,23,24,25,26,27,28,29,30,31,32,33,34,35] ].values #not including protocol feature\n",
    "Y = dataset.iloc[:, [1]].values"
   ]
  },
  {
   "cell_type": "code",
   "execution_count": 11,
   "metadata": {
    "colab": {
     "base_uri": "https://localhost:8080/"
    },
    "id": "vVNn7I0V9FS2",
    "outputId": "0db10de0-8923-4868-e804-d9af1566a19a"
   },
   "outputs": [
    {
     "data": {
      "text/plain": [
       "(75288, 34)"
      ]
     },
     "execution_count": 11,
     "metadata": {},
     "output_type": "execute_result"
    }
   ],
   "source": [
    "X.shape"
   ]
  },
  {
   "cell_type": "code",
   "execution_count": 21,
   "metadata": {
    "id": "VE7JcQde9FS3"
   },
   "outputs": [],
   "source": [
    "from sklearn.preprocessing import StandardScaler\n",
    "trans = StandardScaler()\n",
    "X = trans.fit_transform(X)"
   ]
  },
  {
   "cell_type": "code",
   "execution_count": 22,
   "metadata": {
    "id": "SRZ7fP1N9FS3"
   },
   "outputs": [],
   "source": [
    "X=X.reshape(75288,34,1)"
   ]
  },
  {
   "cell_type": "code",
   "execution_count": 14,
   "metadata": {
    "colab": {
     "base_uri": "https://localhost:8080/"
    },
    "id": "W-Eeb2-t9FS3",
    "outputId": "b921ef70-4258-4d34-cb6d-1c9267865a76"
   },
   "outputs": [
    {
     "data": {
      "text/plain": [
       "(75288, 1)"
      ]
     },
     "execution_count": 14,
     "metadata": {},
     "output_type": "execute_result"
    }
   ],
   "source": [
    "Y.shape"
   ]
  },
  {
   "cell_type": "code",
   "execution_count": 15,
   "metadata": {
    "colab": {
     "base_uri": "https://localhost:8080/"
    },
    "id": "5LADILSw9FS4",
    "outputId": "08d49285-38b7-422d-cd35-a3c91c402a0c"
   },
   "outputs": [
    {
     "name": "stdout",
     "output_type": "stream",
     "text": [
      "[[[-1.84882601e-01]\n",
      "  [ 2.47418105e-01]\n",
      "  [-2.00418347e-01]\n",
      "  ...\n",
      "  [ 1.74240825e-01]\n",
      "  [-4.60748476e-02]\n",
      "  [-8.86525229e-02]]\n",
      "\n",
      " [[-1.75996216e-01]\n",
      "  [ 2.14467461e-01]\n",
      "  [-1.57411120e-01]\n",
      "  ...\n",
      "  [-1.24677570e+00]\n",
      "  [-7.34392334e-01]\n",
      "  [ 7.79345141e-01]]\n",
      "\n",
      " [[-1.82723457e-01]\n",
      "  [ 2.34636499e-01]\n",
      "  [-1.82668231e-01]\n",
      "  ...\n",
      "  [ 2.09670273e-02]\n",
      "  [-3.59141866e-01]\n",
      "  [-1.35052777e-01]]\n",
      "\n",
      " ...\n",
      "\n",
      " [[-1.84930283e-01]\n",
      "  [ 2.44981492e-01]\n",
      "  [-1.97645936e-01]\n",
      "  ...\n",
      "  [ 1.55765372e-04]\n",
      "  [ 1.03503203e-01]\n",
      "  [-7.84730523e-03]]\n",
      "\n",
      " [[-1.84750028e-01]\n",
      "  [ 2.43443159e-01]\n",
      "  [-1.98695482e-01]\n",
      "  ...\n",
      "  [ 2.81981600e-01]\n",
      "  [-4.27957149e-01]\n",
      "  [ 1.35203663e-01]]\n",
      "\n",
      " [[-1.84824524e-01]\n",
      "  [ 2.47935187e-01]\n",
      "  [-2.01076993e-01]\n",
      "  ...\n",
      "  [-1.87463848e-01]\n",
      "  [ 2.91420682e-02]\n",
      "  [-1.59005391e-03]]]\n"
     ]
    }
   ],
   "source": [
    "print(X)"
   ]
  },
  {
   "cell_type": "code",
   "execution_count": 16,
   "metadata": {
    "colab": {
     "base_uri": "https://localhost:8080/"
    },
    "id": "jUHpdx8g9FS5",
    "outputId": "a1b2f329-07fd-49c6-c030-fdf08ac77eac"
   },
   "outputs": [
    {
     "name": "stdout",
     "output_type": "stream",
     "text": [
      "[[1]\n",
      " [0]\n",
      " [1]\n",
      " ...\n",
      " [1]\n",
      " [1]\n",
      " [1]]\n"
     ]
    }
   ],
   "source": [
    "print(Y)"
   ]
  },
  {
   "cell_type": "code",
   "execution_count": 23,
   "metadata": {
    "id": "CvwCwqVR9FS6"
   },
   "outputs": [],
   "source": [
    "\n",
    "X_D,X_tst,Y_D,Y_tst=train_test_split(X,Y,test_size=0.1)"
   ]
  },
  {
   "cell_type": "code",
   "execution_count": 24,
   "metadata": {
    "id": "SJjIE9Zd7hS9"
   },
   "outputs": [],
   "source": [
    "X_tr,X_val,Y_tr,Y_val=train_test_split(X_D,Y_D,test_size=0.1)"
   ]
  },
  {
   "cell_type": "code",
   "execution_count": 27,
   "metadata": {
    "colab": {
     "base_uri": "https://localhost:8080/"
    },
    "id": "TqY5X0Dv9FS6",
    "outputId": "44d22dda-5e27-496a-9db6-89d7b67b242b"
   },
   "outputs": [
    {
     "data": {
      "text/plain": [
       "(60983, 34, 1)"
      ]
     },
     "execution_count": 27,
     "metadata": {},
     "output_type": "execute_result"
    }
   ],
   "source": [
    "X_tr.shape"
   ]
  },
  {
   "cell_type": "code",
   "execution_count": 28,
   "metadata": {
    "colab": {
     "base_uri": "https://localhost:8080/"
    },
    "id": "IERM6T4Z9FS7",
    "outputId": "4e0c0e82-c944-4a99-e955-b214b84942a4"
   },
   "outputs": [
    {
     "data": {
      "text/plain": [
       "(7529, 34, 1)"
      ]
     },
     "execution_count": 28,
     "metadata": {},
     "output_type": "execute_result"
    }
   ],
   "source": [
    "X_tst.shape"
   ]
  },
  {
   "cell_type": "code",
   "execution_count": 21,
   "metadata": {
    "colab": {
     "base_uri": "https://localhost:8080/"
    },
    "id": "4R35Geyb77o3",
    "outputId": "f8b0e417-4241-43e8-f9a2-af76729265a7"
   },
   "outputs": [
    {
     "data": {
      "text/plain": [
       "(6776, 34, 1)"
      ]
     },
     "execution_count": 21,
     "metadata": {},
     "output_type": "execute_result"
    }
   ],
   "source": [
    "X_val.shape"
   ]
  },
  {
   "cell_type": "code",
   "execution_count": 2,
   "metadata": {
    "id": "Xp0v08e89FS7"
   },
   "outputs": [],
   "source": [
    "from tensorflow.keras.models import Sequential\n",
    "from tensorflow.keras.layers import Dense, LSTM, Dropout,Embedding,BatchNormalization\n"
   ]
  },
  {
   "cell_type": "code",
   "execution_count": 10,
   "metadata": {
    "colab": {
     "base_uri": "https://localhost:8080/"
    },
    "id": "sE21rFqV9FS7",
    "outputId": "5ac3ffcf-196e-4507-a385-3d2c4d2c2341"
   },
   "outputs": [
    {
     "name": "stdout",
     "output_type": "stream",
     "text": [
      "Model: \"sequential_2\"\n",
      "_________________________________________________________________\n",
      " Layer (type)                Output Shape              Param #   \n",
      "=================================================================\n",
      " lstm_4 (LSTM)               (None, 34, 100)           40800     \n",
      "                                                                 \n",
      " dropout_3 (Dropout)         (None, 34, 100)           0         \n",
      "                                                                 \n",
      " lstm_5 (LSTM)               (None, 50)                30200     \n",
      "                                                                 \n",
      " dropout_4 (Dropout)         (None, 50)                0         \n",
      "                                                                 \n",
      " dense_2 (Dense)             (None, 10)                510       \n",
      "                                                                 \n",
      " batch_normalization_1 (Batc  (None, 10)               40        \n",
      " hNormalization)                                                 \n",
      "                                                                 \n",
      " dense_3 (Dense)             (None, 1)                 11        \n",
      "                                                                 \n",
      "=================================================================\n",
      "Total params: 71,561\n",
      "Trainable params: 71,541\n",
      "Non-trainable params: 20\n",
      "_________________________________________________________________\n"
     ]
    }
   ],
   "source": [
    "model=Sequential()\n",
    "model.add(LSTM(100,input_shape=(34,1),activation='relu',return_sequences=True))\n",
    "model.add(Dropout(0.2))\n",
    "model.add(LSTM(50,activation='relu'))\n",
    "model.add(Dropout(0.2))\n",
    "model.add(Dense(10,activation='relu'))\n",
    "model.add(BatchNormalization())\n",
    "model.add(Dense(1,activation='sigmoid'))\n",
    "model.summary()\n",
    " "
   ]
  },
  {
   "cell_type": "code",
   "execution_count": 4,
   "metadata": {},
   "outputs": [
    {
     "name": "stdout",
     "output_type": "stream",
     "text": [
      "Collecting visualkeras\n",
      "  Downloading visualkeras-0.0.2-py3-none-any.whl (12 kB)\n",
      "Requirement already satisfied: pillow>=6.2.0 in c:\\users\\pc.pack\\anaconda3\\lib\\site-packages (from visualkeras) (9.0.1)\n",
      "Requirement already satisfied: numpy>=1.18.1 in c:\\users\\pc.pack\\anaconda3\\lib\\site-packages (from visualkeras) (1.21.5)\n",
      "Collecting aggdraw>=1.3.11\n",
      "  Downloading aggdraw-1.3.16-cp39-cp39-win_amd64.whl (43 kB)"
     ]
    },
    {
     "name": "stderr",
     "output_type": "stream",
     "text": [
      "\n",
      "[notice] A new release of pip available: 22.3.1 -> 23.1.2\n",
      "[notice] To update, run: python.exe -m pip install --upgrade pip\n"
     ]
    },
    {
     "name": "stdout",
     "output_type": "stream",
     "text": [
      "\n",
      "     ---------------------------------------- 43.2/43.2 kB 1.1 MB/s eta 0:00:00\n",
      "Installing collected packages: aggdraw, visualkeras\n",
      "Successfully installed aggdraw-1.3.16 visualkeras-0.0.2\n"
     ]
    }
   ],
   "source": [
    "!pip install visualkeras"
   ]
  },
  {
   "cell_type": "code",
   "execution_count": 11,
   "metadata": {},
   "outputs": [
    {
     "ename": "TypeError",
     "evalue": "'int' object is not iterable",
     "output_type": "error",
     "traceback": [
      "\u001b[1;31m---------------------------------------------------------------------------\u001b[0m",
      "\u001b[1;31mTypeError\u001b[0m                                 Traceback (most recent call last)",
      "Input \u001b[1;32mIn [11]\u001b[0m, in \u001b[0;36m<cell line: 3>\u001b[1;34m()\u001b[0m\n\u001b[0;32m      1\u001b[0m \u001b[38;5;28;01mimport\u001b[39;00m \u001b[38;5;21;01mvisualkeras\u001b[39;00m\n\u001b[0;32m      2\u001b[0m \u001b[38;5;28;01mfrom\u001b[39;00m \u001b[38;5;21;01mPIL\u001b[39;00m \u001b[38;5;28;01mimport\u001b[39;00m ImageFont\n\u001b[1;32m----> 3\u001b[0m \u001b[43mvisualkeras\u001b[49m\u001b[38;5;241;43m.\u001b[39;49m\u001b[43mlayered_view\u001b[49m\u001b[43m(\u001b[49m\u001b[43mmodel\u001b[49m\u001b[43m)\u001b[49m\n",
      "File \u001b[1;32m~\\anaconda3\\lib\\site-packages\\visualkeras\\layered.py:100\u001b[0m, in \u001b[0;36mlayered_view\u001b[1;34m(model, to_file, min_z, min_xy, max_z, max_xy, scale_z, scale_xy, type_ignore, index_ignore, color_map, one_dim_orientation, background_fill, draw_volume, padding, spacing, draw_funnel, shade_step, legend, font, font_color)\u001b[0m\n\u001b[0;32m     98\u001b[0m     x \u001b[38;5;241m=\u001b[39m \u001b[38;5;28mmin\u001b[39m(\u001b[38;5;28mmax\u001b[39m(shape[\u001b[38;5;241m1\u001b[39m] \u001b[38;5;241m*\u001b[39m scale_xy, x), max_xy)\n\u001b[0;32m     99\u001b[0m     y \u001b[38;5;241m=\u001b[39m \u001b[38;5;28mmin\u001b[39m(\u001b[38;5;28mmax\u001b[39m(shape[\u001b[38;5;241m2\u001b[39m] \u001b[38;5;241m*\u001b[39m scale_xy, y), max_xy)\n\u001b[1;32m--> 100\u001b[0m     z \u001b[38;5;241m=\u001b[39m \u001b[38;5;28mmin\u001b[39m(\u001b[38;5;28;43mmax\u001b[39;49m\u001b[43m(\u001b[49m\u001b[43mz\u001b[49m\u001b[43m)\u001b[49m, max_z)\n\u001b[0;32m    101\u001b[0m \u001b[38;5;28;01melif\u001b[39;00m \u001b[38;5;28mlen\u001b[39m(shape) \u001b[38;5;241m==\u001b[39m \u001b[38;5;241m2\u001b[39m:\n\u001b[0;32m    102\u001b[0m     \u001b[38;5;28;01mif\u001b[39;00m one_dim_orientation \u001b[38;5;241m==\u001b[39m \u001b[38;5;124m'\u001b[39m\u001b[38;5;124mx\u001b[39m\u001b[38;5;124m'\u001b[39m:\n",
      "\u001b[1;31mTypeError\u001b[0m: 'int' object is not iterable"
     ]
    }
   ],
   "source": [
    "import visualkeras\n",
    "from PIL import ImageFont\n",
    "visualkeras.layered_view(model)"
   ]
  },
  {
   "cell_type": "code",
   "execution_count": 24,
   "metadata": {
    "id": "4WLWovIN836w"
   },
   "outputs": [],
   "source": [
    "import os\n",
    "try:\n",
    "  os.mkdir('checkpoint_95_stand3')\n",
    "except:\n",
    "  pass\n",
    "\n"
   ]
  },
  {
   "cell_type": "code",
   "execution_count": 25,
   "metadata": {
    "id": "kqD0xHNq9Bj0"
   },
   "outputs": [],
   "source": [
    "import tensorboard\n",
    "from datetime import datetime\n",
    "import tensorflow as tf\n",
    "file_name=\"best_model.h5\"\n",
    "checkpoint_path=os.path.join('checkpoint_95_stand3',file_name)\n",
    "checkpoint=tf.keras.callbacks.ModelCheckpoint(filepath=checkpoint_path,\n",
    "                                             monitor='val_accuracy',\n",
    "                                             verbose=1,\n",
    "                                             save_freq='epoch',\n",
    "                                             save_best_only=True,\n",
    "                                             save_weights_only=False,\n",
    "                                             mode='max')\n",
    "\n",
    "callbacks_list=[checkpoint]\n",
    "\n",
    "\n"
   ]
  },
  {
   "cell_type": "code",
   "execution_count": null,
   "metadata": {
    "id": "N9L5oI3uriOo"
   },
   "outputs": [],
   "source": [
    "#learing rate 9elbi 3la  dyal optimizer li dayra nti ratl9eyh dayr bhal haka keras.optimizers.Rmsprop(learning_rate=3e-4) had rate saleh f Adam optimizer 3la ma9elbt wach saleh l ga3 optimizerate I don't kw"
   ]
  },
  {
   "cell_type": "code",
   "execution_count": null,
   "metadata": {
    "id": "uyN9H1iQssQB"
   },
   "outputs": [],
   "source": [
    "#0.005 = 5e-3 hadi rir bday biha o b9ay tadliha hta thih f rate masyn"
   ]
  },
  {
   "cell_type": "code",
   "execution_count": 26,
   "metadata": {
    "colab": {
     "base_uri": "https://localhost:8080/"
    },
    "id": "x34oKAdr9FS8",
    "outputId": "9152e63c-aca8-4968-e45f-e90ec86ea7b5"
   },
   "outputs": [
    {
     "name": "stdout",
     "output_type": "stream",
     "text": [
      "Epoch 1/16\n",
      "1906/1906 [==============================] - ETA: 0s - loss: 0.5201 - accuracy: 0.7397\n",
      "Epoch 1: val_accuracy improved from -inf to 0.77096, saving model to checkpoint_95_stand3/best_model.h5\n",
      "1906/1906 [==============================] - 255s 130ms/step - loss: 0.5201 - accuracy: 0.7397 - val_loss: 0.6949 - val_accuracy: 0.7710\n",
      "Epoch 2/16\n",
      "1906/1906 [==============================] - ETA: 0s - loss: 0.4346 - accuracy: 0.8029\n",
      "Epoch 2: val_accuracy improved from 0.77096 to 0.80903, saving model to checkpoint_95_stand3/best_model.h5\n",
      "1906/1906 [==============================] - 254s 133ms/step - loss: 0.4346 - accuracy: 0.8029 - val_loss: 0.4933 - val_accuracy: 0.8090\n",
      "Epoch 3/16\n",
      "1906/1906 [==============================] - ETA: 0s - loss: 0.3998 - accuracy: 0.8244\n",
      "Epoch 3: val_accuracy improved from 0.80903 to 0.84047, saving model to checkpoint_95_stand3/best_model.h5\n",
      "1906/1906 [==============================] - 249s 131ms/step - loss: 0.3998 - accuracy: 0.8244 - val_loss: 0.3735 - val_accuracy: 0.8405\n",
      "Epoch 4/16\n",
      "1906/1906 [==============================] - ETA: 0s - loss: 0.3794 - accuracy: 0.8349\n",
      "Epoch 4: val_accuracy did not improve from 0.84047\n",
      "1906/1906 [==============================] - 244s 128ms/step - loss: 0.3794 - accuracy: 0.8349 - val_loss: 0.5015 - val_accuracy: 0.8018\n",
      "Epoch 5/16\n",
      "1906/1906 [==============================] - ETA: 0s - loss: 0.3663 - accuracy: 0.8456\n",
      "Epoch 5: val_accuracy did not improve from 0.84047\n",
      "1906/1906 [==============================] - 243s 127ms/step - loss: 0.3663 - accuracy: 0.8456 - val_loss: 0.4696 - val_accuracy: 0.8228\n",
      "Epoch 6/16\n",
      "1906/1906 [==============================] - ETA: 0s - loss: 0.3546 - accuracy: 0.8507\n",
      "Epoch 6: val_accuracy improved from 0.84047 to 0.84785, saving model to checkpoint_95_stand3/best_model.h5\n",
      "1906/1906 [==============================] - 238s 125ms/step - loss: 0.3546 - accuracy: 0.8507 - val_loss: 0.3775 - val_accuracy: 0.8478\n",
      "Epoch 7/16\n",
      "1906/1906 [==============================] - ETA: 0s - loss: 0.3451 - accuracy: 0.8577\n",
      "Epoch 7: val_accuracy did not improve from 0.84785\n",
      "1906/1906 [==============================] - 241s 126ms/step - loss: 0.3451 - accuracy: 0.8577 - val_loss: 0.3571 - val_accuracy: 0.8442\n",
      "Epoch 8/16\n",
      "1906/1906 [==============================] - ETA: 0s - loss: 0.3560 - accuracy: 0.8544\n",
      "Epoch 8: val_accuracy did not improve from 0.84785\n",
      "1906/1906 [==============================] - 239s 126ms/step - loss: 0.3560 - accuracy: 0.8544 - val_loss: 0.6704 - val_accuracy: 0.7748\n",
      "Epoch 9/16\n",
      "1906/1906 [==============================] - ETA: 0s - loss: 0.3360 - accuracy: 0.8626\n",
      "Epoch 9: val_accuracy improved from 0.84785 to 0.85729, saving model to checkpoint_95_stand3/best_model.h5\n",
      "1906/1906 [==============================] - 240s 126ms/step - loss: 0.3360 - accuracy: 0.8626 - val_loss: 0.3478 - val_accuracy: 0.8573\n",
      "Epoch 10/16\n",
      "1906/1906 [==============================] - ETA: 0s - loss: 0.3633 - accuracy: 0.8551\n",
      "Epoch 10: val_accuracy did not improve from 0.85729\n",
      "1906/1906 [==============================] - 239s 125ms/step - loss: 0.3633 - accuracy: 0.8551 - val_loss: 0.6751 - val_accuracy: 0.8019\n",
      "Epoch 11/16\n",
      "1906/1906 [==============================] - ETA: 0s - loss: 0.3593 - accuracy: 0.8576\n",
      "Epoch 11: val_accuracy improved from 0.85729 to 0.86733, saving model to checkpoint_95_stand3/best_model.h5\n",
      "1906/1906 [==============================] - 242s 127ms/step - loss: 0.3593 - accuracy: 0.8576 - val_loss: 0.4592 - val_accuracy: 0.8673\n",
      "Epoch 12/16\n",
      "1906/1906 [==============================] - ETA: 0s - loss: 0.3322 - accuracy: 0.8652\n",
      "Epoch 12: val_accuracy did not improve from 0.86733\n",
      "1906/1906 [==============================] - 240s 126ms/step - loss: 0.3322 - accuracy: 0.8652 - val_loss: 0.5143 - val_accuracy: 0.8636\n",
      "Epoch 13/16\n",
      "1906/1906 [==============================] - ETA: 0s - loss: 0.3250 - accuracy: 0.8684\n",
      "Epoch 13: val_accuracy improved from 0.86733 to 0.86821, saving model to checkpoint_95_stand3/best_model.h5\n",
      "1906/1906 [==============================] - 238s 125ms/step - loss: 0.3250 - accuracy: 0.8684 - val_loss: 0.3426 - val_accuracy: 0.8682\n",
      "Epoch 14/16\n",
      "1906/1906 [==============================] - ETA: 0s - loss: 0.3176 - accuracy: 0.8714\n",
      "Epoch 14: val_accuracy improved from 0.86821 to 0.87382, saving model to checkpoint_95_stand3/best_model.h5\n",
      "1906/1906 [==============================] - 247s 130ms/step - loss: 0.3176 - accuracy: 0.8714 - val_loss: 0.4056 - val_accuracy: 0.8738\n",
      "Epoch 15/16\n",
      "1906/1906 [==============================] - ETA: 0s - loss: 0.3163 - accuracy: 0.8722\n",
      "Epoch 15: val_accuracy improved from 0.87382 to 0.87559, saving model to checkpoint_95_stand3/best_model.h5\n",
      "1906/1906 [==============================] - 241s 127ms/step - loss: 0.3163 - accuracy: 0.8722 - val_loss: 0.3368 - val_accuracy: 0.8756\n",
      "Epoch 16/16\n",
      "1906/1906 [==============================] - ETA: 0s - loss: 0.3129 - accuracy: 0.8737\n",
      "Epoch 16: val_accuracy did not improve from 0.87559\n",
      "1906/1906 [==============================] - 237s 124ms/step - loss: 0.3129 - accuracy: 0.8737 - val_loss: 0.3240 - val_accuracy: 0.8670\n"
     ]
    }
   ],
   "source": [
    "model.compile(loss='binary_crossentropy', optimizer='rmsprop', metrics=['accuracy'])\n",
    "history=model.fit(x=X_tr,y=Y_tr,epochs=16,validation_data=(X_val,Y_val),callbacks=callbacks_list)"
   ]
  },
  {
   "cell_type": "code",
   "execution_count": null,
   "metadata": {
    "id": "h4pxXUSw97z_"
   },
   "outputs": [],
   "source": []
  },
  {
   "cell_type": "code",
   "execution_count": 27,
   "metadata": {
    "colab": {
     "base_uri": "https://localhost:8080/"
    },
    "id": "7DF3n1z49FS8",
    "outputId": "b3902d88-d489-42f2-de89-374e5f12fc8b"
   },
   "outputs": [
    {
     "name": "stdout",
     "output_type": "stream",
     "text": [
      "236/236 [==============================] - 5s 19ms/step\n",
      "0.8666489573648559\n"
     ]
    }
   ],
   "source": [
    "from sklearn.metrics import accuracy_score\n",
    "y_pred=model.predict(X_tst)\n",
    "y_pred=(y_pred>0.5)\n",
    "my_acc=accuracy_score(Y_tst,y_pred)\n",
    "print(my_acc)"
   ]
  },
  {
   "cell_type": "code",
   "execution_count": 28,
   "metadata": {
    "colab": {
     "base_uri": "https://localhost:8080/",
     "height": 472
    },
    "id": "DJ-3L9Do9FS9",
    "outputId": "a4fa7135-05b8-4ccb-ca57-05a8754f3afc"
   },
   "outputs": [
    {
     "data": {
      "image/png": "[encoded data removed]",
      "text/plain": [
       "<Figure size 640x480 with 1 Axes>"
      ]
     },
     "metadata": {},
     "output_type": "display_data"
    }
   ],
   "source": [
    "import matplotlib.pyplot as plt\n",
    "plt.plot(history.history['accuracy'])\n",
    "plt.plot(history.history['val_accuracy'])\n",
    "plt.title('model accuracy')\n",
    "plt.ylabel('accuracy')\n",
    "plt.xlabel('epoch')\n",
    "plt.legend(['train', 'val'], loc='upper left')\n",
    "plt.show()"
   ]
  },
  {
   "cell_type": "code",
   "execution_count": 29,
   "metadata": {
    "colab": {
     "base_uri": "https://localhost:8080/",
     "height": 472
    },
    "id": "CqzKKObBmAds",
    "outputId": "7f8e8c81-e28d-4440-a956-2e91e50496a9"
   },
   "outputs": [
    {
     "data": {
      "image/png": "[encoded data removed]",
      "text/plain": [
       "<Figure size 640x480 with 1 Axes>"
      ]
     },
     "metadata": {},
     "output_type": "display_data"
    }
   ],
   "source": [
    "plt.plot(history.history['loss'])\n",
    "plt.plot(history.history['val_loss'])\n",
    "plt.title('model loss')\n",
    "plt.ylabel('loss')\n",
    "plt.xlabel('epoch')\n",
    "plt.legend(['train', 'val'], loc='upper right')\n",
    "plt.show()"
   ]
  },
  {
   "cell_type": "code",
   "execution_count": 15,
   "metadata": {
    "id": "SRhOeFhAmS9K"
   },
   "outputs": [],
   "source": []
  },
  {
   "cell_type": "code",
   "execution_count": null,
   "metadata": {},
   "outputs": [],
   "source": [
    "\n",
    " "
   ]
  },
  {
   "cell_type": "code",
   "execution_count": null,
   "metadata": {},
   "outputs": [],
   "source": []
  },
  {
   "cell_type": "code",
   "execution_count": null,
   "metadata": {},
   "outputs": [],
   "source": []
  },
  {
   "cell_type": "code",
   "execution_count": null,
   "metadata": {},
   "outputs": [],
   "source": []
  }
 ],
 "metadata": {
  "accelerator": "GPU",
  "colab": {
   "gpuType": "T4",
   "provenance": []
  },
  "kernelspec": {
   "display_name": "Python 3 (ipykernel)",
   "language": "python",
   "name": "python3"
  },
  "language_info": {
   "codemirror_mode": {
    "name": "ipython",
    "version": 3
   },
   "file_extension": ".py",
   "mimetype": "text/x-python",
   "name": "python",
   "nbconvert_exporter": "python",
   "pygments_lexer": "ipython3",
   "version": "3.9.12"
  },
  "toc-showcode": true,
  "toc-showmarkdowntxt": true
 },
 "nbformat": 4,
 "nbformat_minor": 1
}
